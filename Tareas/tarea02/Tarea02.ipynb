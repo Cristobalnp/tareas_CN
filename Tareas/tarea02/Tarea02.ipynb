{
  "nbformat": 4,
  "nbformat_minor": 0,
  "metadata": {
    "colab": {
      "provenance": []
    },
    "kernelspec": {
      "name": "python3",
      "display_name": "Python 3"
    },
    "language_info": {
      "name": "python"
    }
  },
  "cells": [
    {
      "cell_type": "markdown",
      "source": [
        "# TAREA 02\n"
      ],
      "metadata": {
        "id": "oKbRd1uXLnWh"
      }
    },
    {
      "cell_type": "markdown",
      "source": [
        "### Problema 1\n"
      ],
      "metadata": {
        "id": "gaSlcMNQN4eO"
      }
    },
    {
      "cell_type": "code",
      "source": [
        "variable = -101\n",
        "\n",
        "while(variable < 200):\n",
        "  variable = variable + 1\n",
        "  print(variable)"
      ],
      "metadata": {
        "colab": {
          "base_uri": "https://localhost:8080/"
        },
        "id": "uHFKLdMTNWse",
        "outputId": "bd975969-f55f-4ad7-99e7-4c5f125e79b7"
      },
      "execution_count": 4,
      "outputs": [
        {
          "output_type": "stream",
          "name": "stdout",
          "text": [
            "-100\n",
            "-99\n",
            "-98\n",
            "-97\n",
            "-96\n",
            "-95\n",
            "-94\n",
            "-93\n",
            "-92\n",
            "-91\n",
            "-90\n",
            "-89\n",
            "-88\n",
            "-87\n",
            "-86\n",
            "-85\n",
            "-84\n",
            "-83\n",
            "-82\n",
            "-81\n",
            "-80\n",
            "-79\n",
            "-78\n",
            "-77\n",
            "-76\n",
            "-75\n",
            "-74\n",
            "-73\n",
            "-72\n",
            "-71\n",
            "-70\n",
            "-69\n",
            "-68\n",
            "-67\n",
            "-66\n",
            "-65\n",
            "-64\n",
            "-63\n",
            "-62\n",
            "-61\n",
            "-60\n",
            "-59\n",
            "-58\n",
            "-57\n",
            "-56\n",
            "-55\n",
            "-54\n",
            "-53\n",
            "-52\n",
            "-51\n",
            "-50\n",
            "-49\n",
            "-48\n",
            "-47\n",
            "-46\n",
            "-45\n",
            "-44\n",
            "-43\n",
            "-42\n",
            "-41\n",
            "-40\n",
            "-39\n",
            "-38\n",
            "-37\n",
            "-36\n",
            "-35\n",
            "-34\n",
            "-33\n",
            "-32\n",
            "-31\n",
            "-30\n",
            "-29\n",
            "-28\n",
            "-27\n",
            "-26\n",
            "-25\n",
            "-24\n",
            "-23\n",
            "-22\n",
            "-21\n",
            "-20\n",
            "-19\n",
            "-18\n",
            "-17\n",
            "-16\n",
            "-15\n",
            "-14\n",
            "-13\n",
            "-12\n",
            "-11\n",
            "-10\n",
            "-9\n",
            "-8\n",
            "-7\n",
            "-6\n",
            "-5\n",
            "-4\n",
            "-3\n",
            "-2\n",
            "-1\n",
            "0\n",
            "1\n",
            "2\n",
            "3\n",
            "4\n",
            "5\n",
            "6\n",
            "7\n",
            "8\n",
            "9\n",
            "10\n",
            "11\n",
            "12\n",
            "13\n",
            "14\n",
            "15\n",
            "16\n",
            "17\n",
            "18\n",
            "19\n",
            "20\n",
            "21\n",
            "22\n",
            "23\n",
            "24\n",
            "25\n",
            "26\n",
            "27\n",
            "28\n",
            "29\n",
            "30\n",
            "31\n",
            "32\n",
            "33\n",
            "34\n",
            "35\n",
            "36\n",
            "37\n",
            "38\n",
            "39\n",
            "40\n",
            "41\n",
            "42\n",
            "43\n",
            "44\n",
            "45\n",
            "46\n",
            "47\n",
            "48\n",
            "49\n",
            "50\n",
            "51\n",
            "52\n",
            "53\n",
            "54\n",
            "55\n",
            "56\n",
            "57\n",
            "58\n",
            "59\n",
            "60\n",
            "61\n",
            "62\n",
            "63\n",
            "64\n",
            "65\n",
            "66\n",
            "67\n",
            "68\n",
            "69\n",
            "70\n",
            "71\n",
            "72\n",
            "73\n",
            "74\n",
            "75\n",
            "76\n",
            "77\n",
            "78\n",
            "79\n",
            "80\n",
            "81\n",
            "82\n",
            "83\n",
            "84\n",
            "85\n",
            "86\n",
            "87\n",
            "88\n",
            "89\n",
            "90\n",
            "91\n",
            "92\n",
            "93\n",
            "94\n",
            "95\n",
            "96\n",
            "97\n",
            "98\n",
            "99\n",
            "100\n",
            "101\n",
            "102\n",
            "103\n",
            "104\n",
            "105\n",
            "106\n",
            "107\n",
            "108\n",
            "109\n",
            "110\n",
            "111\n",
            "112\n",
            "113\n",
            "114\n",
            "115\n",
            "116\n",
            "117\n",
            "118\n",
            "119\n",
            "120\n",
            "121\n",
            "122\n",
            "123\n",
            "124\n",
            "125\n",
            "126\n",
            "127\n",
            "128\n",
            "129\n",
            "130\n",
            "131\n",
            "132\n",
            "133\n",
            "134\n",
            "135\n",
            "136\n",
            "137\n",
            "138\n",
            "139\n",
            "140\n",
            "141\n",
            "142\n",
            "143\n",
            "144\n",
            "145\n",
            "146\n",
            "147\n",
            "148\n",
            "149\n",
            "150\n",
            "151\n",
            "152\n",
            "153\n",
            "154\n",
            "155\n",
            "156\n",
            "157\n",
            "158\n",
            "159\n",
            "160\n",
            "161\n",
            "162\n",
            "163\n",
            "164\n",
            "165\n",
            "166\n",
            "167\n",
            "168\n",
            "169\n",
            "170\n",
            "171\n",
            "172\n",
            "173\n",
            "174\n",
            "175\n",
            "176\n",
            "177\n",
            "178\n",
            "179\n",
            "180\n",
            "181\n",
            "182\n",
            "183\n",
            "184\n",
            "185\n",
            "186\n",
            "187\n",
            "188\n",
            "189\n",
            "190\n",
            "191\n",
            "192\n",
            "193\n",
            "194\n",
            "195\n",
            "196\n",
            "197\n",
            "198\n",
            "199\n",
            "200\n"
          ]
        }
      ]
    },
    {
      "cell_type": "markdown",
      "source": [
        "En este problema, determiné la variable en el número inicial y le puse varible + 1 para que no incluya el -101, comenzando de esta manera en el -100 como se pide. Además, gracias al while, pude establecer el límite superior del rango y que no sean números infinitos.\n"
      ],
      "metadata": {
        "id": "snC5NDBgOBJh"
      }
    },
    {
      "cell_type": "markdown",
      "source": [
        "### Problema 2"
      ],
      "metadata": {
        "id": "7QJ_SbIDV4IW"
      }
    },
    {
      "cell_type": "code",
      "source": [
        "variable  = -101\n",
        "while(variable < 200):\n",
        "  variable = variable + 1\n",
        "\n",
        "  if(variable % 6 == 0):\n",
        "    print(variable)"
      ],
      "metadata": {
        "colab": {
          "base_uri": "https://localhost:8080/"
        },
        "id": "3Py2qvRpW64z",
        "outputId": "a7c760bc-e329-42d2-9479-55d7a5804527"
      },
      "execution_count": 11,
      "outputs": [
        {
          "output_type": "stream",
          "name": "stdout",
          "text": [
            "-96\n",
            "-90\n",
            "-84\n",
            "-78\n",
            "-72\n",
            "-66\n",
            "-60\n",
            "-54\n",
            "-48\n",
            "-42\n",
            "-36\n",
            "-30\n",
            "-24\n",
            "-18\n",
            "-12\n",
            "-6\n",
            "0\n",
            "6\n",
            "12\n",
            "18\n",
            "24\n",
            "30\n",
            "36\n",
            "42\n",
            "48\n",
            "54\n",
            "60\n",
            "66\n",
            "72\n",
            "78\n",
            "84\n",
            "90\n",
            "96\n",
            "102\n",
            "108\n",
            "114\n",
            "120\n",
            "126\n",
            "132\n",
            "138\n",
            "144\n",
            "150\n",
            "156\n",
            "162\n",
            "168\n",
            "174\n",
            "180\n",
            "186\n",
            "192\n",
            "198\n"
          ]
        }
      ]
    },
    {
      "cell_type": "markdown",
      "source": [
        "En este problema utilicé la misma base que usé en el anterior, donde al requerir una nueva acción específica, emplee el comando (if) que determina una acción secundaria dentro del rango establecido previamente. Además, no utilicé el símbolo clásico de división (/) porque de usar ese hubiera dividido todo y no solamente los que tienen resto 0 como es el caso cuando se usa (%)."
      ],
      "metadata": {
        "id": "fGEGD5_lXPrJ"
      }
    },
    {
      "cell_type": "markdown",
      "source": [
        "### Problema 3"
      ],
      "metadata": {
        "id": "U86HXW91X098"
      }
    },
    {
      "cell_type": "code",
      "source": [
        "número1 = float(input(\"Ingrese el número 1\"))\n",
        "número2 = float(input(\"Ingrese el número 2\"))\n",
        "\n",
        "suma = número1 + número2\n",
        "\n",
        "print(suma)\n",
        "\n",
        "if(suma<200):\n",
        "  print(\"menor a 200\")\n",
        "elif(250>suma>200):\n",
        "  print(\"mayor a 200\")\n",
        "if(suma>250):\n",
        "  print(\"mayor a 250\")"
      ],
      "metadata": {
        "colab": {
          "base_uri": "https://localhost:8080/"
        },
        "id": "zl2VbGBfX3Nm",
        "outputId": "a0563122-6dc9-4bc4-ca25-2035bfdca786"
      },
      "execution_count": 17,
      "outputs": [
        {
          "output_type": "stream",
          "name": "stdout",
          "text": [
            "Ingrese el número 1300\n",
            "Ingrese el número 24\n",
            "304.0\n",
            "mayor a 250\n"
          ]
        }
      ]
    },
    {
      "cell_type": "markdown",
      "source": [
        "En este problema, se incluyeron una mayor cantidad de comandos. En primer lugar, se específico con el comando *float* que lo que se ingrese tiene que estar en número y no texto. Con la suma se especifica que se espera que se realice en este problema. Además, con el *if* se logra imprimir un mensaje que se espera a raíz de cada resultado. En el caso de la línea 10, se implementaron dos variables para que al momento de entregar el resultado no sea con dos mensajes."
      ],
      "metadata": {
        "id": "JNOT16FPaaRY"
      }
    },
    {
      "cell_type": "markdown",
      "source": [
        "### Problema 4"
      ],
      "metadata": {
        "id": "IgR-DudUbZjO"
      }
    },
    {
      "cell_type": "code",
      "source": [
        "edad = float(input(\"Ingresa tu edad\"))\n",
        "Gustos_Musicales = input(\"¿Te gusta la música urbana? Responder con Si o No\")\n",
        "\n",
        "if(edad>=18 and Gustos_Musicales == \"Si\"):\n",
        "  print(\"Mayor de edad y le gusta la música urbana\")\n",
        "elif(edad>=18 and Gustos_Musicales == \"No\"):\n",
        "  print(\"Mayor de edad y no le gusta la música urbana\")\n",
        "if(edad<18 and Gustos_Musicales == \"Si\"):\n",
        "  print(\"Menor de edad y le gusta la música urbana\")\n",
        "elif(edad<18 and Gustos_Musicales == \"No\"):\n",
        "  print(\"Menos de edad y no le gusta la música urbana\")"
      ],
      "metadata": {
        "colab": {
          "base_uri": "https://localhost:8080/"
        },
        "id": "5qyoBj9Ybc4R",
        "outputId": "0593f7da-11fe-420c-94a6-bbb926cd874a"
      },
      "execution_count": 18,
      "outputs": [
        {
          "output_type": "stream",
          "name": "stdout",
          "text": [
            "Ingresa tu edad20\n",
            "¿Te gusta la música urbana? Responder con Si o NoSi\n",
            "Mayor de edad y le gusta la música urbana\n"
          ]
        }
      ]
    },
    {
      "cell_type": "markdown",
      "source": [
        "En este problema, se utilizó la misma fórmula que para el problema 3, con la única gran diferncia de no incluir *float* en la línea 2 para dejar en claro para el programa que no es necesario que sea una respuesta con números y no generar confusión."
      ],
      "metadata": {
        "id": "E3gzePjYdo3a"
      }
    }
  ]
}